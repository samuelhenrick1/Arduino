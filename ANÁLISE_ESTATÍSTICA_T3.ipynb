{
  "nbformat": 4,
  "nbformat_minor": 0,
  "metadata": {
    "colab": {
      "name": "ANÁLISE ESTATÍSTICA - T3.ipynb",
      "provenance": [],
      "authorship_tag": "ABX9TyP5O2XjvsBrdMhiGEgA5tzM",
      "include_colab_link": true
    },
    "kernelspec": {
      "name": "ir",
      "display_name": "R"
    },
    "language_info": {
      "name": "R"
    }
  },
  "cells": [
    {
      "cell_type": "markdown",
      "metadata": {
        "id": "view-in-github",
        "colab_type": "text"
      },
      "source": [
        "<a href=\"https://colab.research.google.com/github/samuelhenrick1/Arduino/blob/main/AN%C3%81LISE_ESTAT%C3%8DSTICA_T3.ipynb\" target=\"_parent\"><img src=\"https://colab.research.google.com/assets/colab-badge.svg\" alt=\"Open In Colab\"/></a>"
      ]
    },
    {
      "cell_type": "markdown",
      "source": [
        "Instalação dos Pacotes que serão utilizados nesse notebook"
      ],
      "metadata": {
        "id": "l3ZPqmkWj_0V"
      }
    },
    {
      "cell_type": "code",
      "source": [
        "install.packages(\"ggplot2\")"
      ],
      "metadata": {
        "colab": {
          "base_uri": "https://localhost:8080/"
        },
        "id": "oHiaopAmV7D4",
        "outputId": "6cfbe65b-3837-4dfc-a426-e40e201e1263"
      },
      "execution_count": 233,
      "outputs": [
        {
          "output_type": "stream",
          "name": "stderr",
          "text": [
            "Installing package into ‘/usr/local/lib/R/site-library’\n",
            "(as ‘lib’ is unspecified)\n",
            "\n"
          ]
        }
      ]
    },
    {
      "cell_type": "code",
      "source": [
        "install.packages(\"ggpubr\")"
      ],
      "metadata": {
        "colab": {
          "base_uri": "https://localhost:8080/"
        },
        "id": "b1ncIKvpV8kp",
        "outputId": "f38982ea-72fc-43d1-cc55-e75cbdfb89d0"
      },
      "execution_count": 234,
      "outputs": [
        {
          "output_type": "stream",
          "name": "stderr",
          "text": [
            "Installing package into ‘/usr/local/lib/R/site-library’\n",
            "(as ‘lib’ is unspecified)\n",
            "\n"
          ]
        }
      ]
    },
    {
      "cell_type": "code",
      "source": [
        "install.packages(\"skimr\")"
      ],
      "metadata": {
        "colab": {
          "base_uri": "https://localhost:8080/"
        },
        "id": "OqjIRnZkV-j6",
        "outputId": "662d5774-6f4a-4a76-af8b-4b15dcfdc7db"
      },
      "execution_count": 235,
      "outputs": [
        {
          "output_type": "stream",
          "name": "stderr",
          "text": [
            "Installing package into ‘/usr/local/lib/R/site-library’\n",
            "(as ‘lib’ is unspecified)\n",
            "\n"
          ]
        }
      ]
    },
    {
      "cell_type": "code",
      "source": [
        "install.packages(\"dplyr\")"
      ],
      "metadata": {
        "colab": {
          "base_uri": "https://localhost:8080/"
        },
        "id": "-ImkMUs-WBVU",
        "outputId": "753f5f36-9b4b-46ae-c9df-8202ddf21e71"
      },
      "execution_count": 236,
      "outputs": [
        {
          "output_type": "stream",
          "name": "stderr",
          "text": [
            "Installing package into ‘/usr/local/lib/R/site-library’\n",
            "(as ‘lib’ is unspecified)\n",
            "\n"
          ]
        }
      ]
    },
    {
      "cell_type": "code",
      "source": [
        "install.packages('lme4')"
      ],
      "metadata": {
        "colab": {
          "base_uri": "https://localhost:8080/"
        },
        "id": "vmB-M5Roi0Oi",
        "outputId": "41260002-3576-4643-d4c6-91c09ef44632"
      },
      "execution_count": 237,
      "outputs": [
        {
          "output_type": "stream",
          "name": "stderr",
          "text": [
            "Installing package into ‘/usr/local/lib/R/site-library’\n",
            "(as ‘lib’ is unspecified)\n",
            "\n"
          ]
        }
      ]
    },
    {
      "cell_type": "code",
      "source": [
        "install.packages('pbkrtest')"
      ],
      "metadata": {
        "colab": {
          "base_uri": "https://localhost:8080/"
        },
        "id": "XSng1LMkj40D",
        "outputId": "03011090-dbf0-4f64-9b33-b2ec73869ef4"
      },
      "execution_count": 238,
      "outputs": [
        {
          "output_type": "stream",
          "name": "stderr",
          "text": [
            "Installing package into ‘/usr/local/lib/R/site-library’\n",
            "(as ‘lib’ is unspecified)\n",
            "\n"
          ]
        }
      ]
    },
    {
      "cell_type": "code",
      "source": [
        "install.packages('car')"
      ],
      "metadata": {
        "colab": {
          "base_uri": "https://localhost:8080/"
        },
        "id": "bnTt2hi0j55N",
        "outputId": "bec7b5fd-7efe-4d93-8ef6-3a135d0a53cf"
      },
      "execution_count": 239,
      "outputs": [
        {
          "output_type": "stream",
          "name": "stderr",
          "text": [
            "Installing package into ‘/usr/local/lib/R/site-library’\n",
            "(as ‘lib’ is unspecified)\n",
            "\n"
          ]
        }
      ]
    },
    {
      "cell_type": "code",
      "source": [
        "install.packages('rstatix')"
      ],
      "metadata": {
        "colab": {
          "base_uri": "https://localhost:8080/"
        },
        "id": "-BU5KeQ9j7dN",
        "outputId": "d35ba9cb-baaf-4378-e1d1-63fe9d3d64fe"
      },
      "execution_count": 240,
      "outputs": [
        {
          "output_type": "stream",
          "name": "stderr",
          "text": [
            "Installing package into ‘/usr/local/lib/R/site-library’\n",
            "(as ‘lib’ is unspecified)\n",
            "\n"
          ]
        }
      ]
    },
    {
      "cell_type": "code",
      "source": [
        "install.packages(\"ggpubr\")"
      ],
      "metadata": {
        "colab": {
          "base_uri": "https://localhost:8080/"
        },
        "id": "JXEYxJvsj9xg",
        "outputId": "33e6deec-00ec-4035-d45e-37735e833edd"
      },
      "execution_count": 241,
      "outputs": [
        {
          "output_type": "stream",
          "name": "stderr",
          "text": [
            "Installing package into ‘/usr/local/lib/R/site-library’\n",
            "(as ‘lib’ is unspecified)\n",
            "\n"
          ]
        }
      ]
    },
    {
      "cell_type": "markdown",
      "source": [
        "Ativando as bibliotecas instaladas"
      ],
      "metadata": {
        "id": "MgW9x_XHkEpv"
      }
    },
    {
      "cell_type": "code",
      "source": [
        "library(ggplot2)\n",
        "library(ggpubr)\n",
        "library(skimr)\n",
        "library(dplyr)"
      ],
      "metadata": {
        "id": "J5viPbFnJMDb"
      },
      "execution_count": 242,
      "outputs": []
    },
    {
      "cell_type": "markdown",
      "source": [
        "Carregando os dados Diamonds"
      ],
      "metadata": {
        "id": "YoYduR-iJUb6"
      }
    },
    {
      "cell_type": "code",
      "execution_count": 243,
      "metadata": {
        "id": "psy1-mxcEUzG"
      },
      "outputs": [],
      "source": [
        "data(diamonds)\n",
        "diamantes <- diamonds\n"
      ]
    },
    {
      "cell_type": "code",
      "source": [
        "pacotes <- c(\"plotly\",\"tidyverse\",\"ggrepel\",\"fastDummies\",\"knitr\",\"kableExtra\",\n",
        "             \"splines\",\"reshape2\",\"PerformanceAnalytics\",\"metan\",\"correlation\",\n",
        "             \"see\",\"ggraph\",\"nortest\",\"rgl\",\"car\",\"olsrr\",\"jtools\",\"ggstance\",\n",
        "             \"magick\",\"cowplot\",\"beepr\",\"Rcpp\", \"readxl\", \"knitr\",\"rmarkdown\", \"dplyr\",\"psych\", \"ggplot2\",\"ggpubr\", \"plyr\", \"skimr\", \"janitor\")"
      ],
      "metadata": {
        "id": "3F9mdgRDNTEx"
      },
      "execution_count": 244,
      "outputs": []
    },
    {
      "cell_type": "markdown",
      "source": [
        " Qual é a estrutura do conjunto de dados “diamantes”?"
      ],
      "metadata": {
        "id": "ZV8VEClVE2lX"
      }
    },
    {
      "cell_type": "code",
      "source": [
        "str(diamonds)"
      ],
      "metadata": {
        "colab": {
          "base_uri": "https://localhost:8080/"
        },
        "id": "5U-Cx7hSEyaH",
        "outputId": "16ac03df-d4ae-48c2-8a85-1128c28c45b4"
      },
      "execution_count": 245,
      "outputs": [
        {
          "output_type": "stream",
          "name": "stdout",
          "text": [
            "tibble [53,940 × 10] (S3: tbl_df/tbl/data.frame)\n",
            " $ carat  : num [1:53940] 0.23 0.21 0.23 0.29 0.31 0.24 0.24 0.26 0.22 0.23 ...\n",
            " $ cut    : Ord.factor w/ 5 levels \"Fair\"<\"Good\"<..: 5 4 2 4 2 3 3 3 1 3 ...\n",
            " $ color  : Ord.factor w/ 7 levels \"D\"<\"E\"<\"F\"<\"G\"<..: 2 2 2 6 7 7 6 5 2 5 ...\n",
            " $ clarity: Ord.factor w/ 8 levels \"I1\"<\"SI2\"<\"SI1\"<..: 2 3 5 4 2 6 7 3 4 5 ...\n",
            " $ depth  : num [1:53940] 61.5 59.8 56.9 62.4 63.3 62.8 62.3 61.9 65.1 59.4 ...\n",
            " $ table  : num [1:53940] 55 61 65 58 58 57 57 55 61 61 ...\n",
            " $ price  : int [1:53940] 326 326 327 334 335 336 336 337 337 338 ...\n",
            " $ x      : num [1:53940] 3.95 3.89 4.05 4.2 4.34 3.94 3.95 4.07 3.87 4 ...\n",
            " $ y      : num [1:53940] 3.98 3.84 4.07 4.23 4.35 3.96 3.98 4.11 3.78 4.05 ...\n",
            " $ z      : num [1:53940] 2.43 2.31 2.31 2.63 2.75 2.48 2.47 2.53 2.49 2.39 ...\n"
          ]
        }
      ]
    },
    {
      "cell_type": "code",
      "source": [
        "dim(diamonds)\n"
      ],
      "metadata": {
        "colab": {
          "base_uri": "https://localhost:8080/",
          "height": 34
        },
        "id": "l437ULvjJgRu",
        "outputId": "98238a05-3d61-48c8-ac48-26ee8dfd7d90"
      },
      "execution_count": 246,
      "outputs": [
        {
          "output_type": "display_data",
          "data": {
            "text/html": [
              "<style>\n",
              ".list-inline {list-style: none; margin:0; padding: 0}\n",
              ".list-inline>li {display: inline-block}\n",
              ".list-inline>li:not(:last-child)::after {content: \"\\00b7\"; padding: 0 .5ex}\n",
              "</style>\n",
              "<ol class=list-inline><li>53940</li><li>10</li></ol>\n"
            ],
            "text/markdown": "1. 53940\n2. 10\n\n\n",
            "text/latex": "\\begin{enumerate*}\n\\item 53940\n\\item 10\n\\end{enumerate*}\n",
            "text/plain": [
              "[1] 53940    10"
            ]
          },
          "metadata": {}
        }
      ]
    },
    {
      "cell_type": "markdown",
      "source": [
        "Explore a parte inicial e a final do conjunto de dados"
      ],
      "metadata": {
        "id": "x7ZQaF3lE81Z"
      }
    },
    {
      "cell_type": "code",
      "source": [
        "head(diamantes)\n"
      ],
      "metadata": {
        "colab": {
          "base_uri": "https://localhost:8080/",
          "height": 286
        },
        "id": "YcZFNNCQE3Um",
        "outputId": "2aa5213a-ff20-4f33-b88f-fd448c58fc12"
      },
      "execution_count": 247,
      "outputs": [
        {
          "output_type": "display_data",
          "data": {
            "text/html": [
              "<table class=\"dataframe\">\n",
              "<caption>A tibble: 6 × 10</caption>\n",
              "<thead>\n",
              "\t<tr><th scope=col>carat</th><th scope=col>cut</th><th scope=col>color</th><th scope=col>clarity</th><th scope=col>depth</th><th scope=col>table</th><th scope=col>price</th><th scope=col>x</th><th scope=col>y</th><th scope=col>z</th></tr>\n",
              "\t<tr><th scope=col>&lt;dbl&gt;</th><th scope=col>&lt;ord&gt;</th><th scope=col>&lt;ord&gt;</th><th scope=col>&lt;ord&gt;</th><th scope=col>&lt;dbl&gt;</th><th scope=col>&lt;dbl&gt;</th><th scope=col>&lt;int&gt;</th><th scope=col>&lt;dbl&gt;</th><th scope=col>&lt;dbl&gt;</th><th scope=col>&lt;dbl&gt;</th></tr>\n",
              "</thead>\n",
              "<tbody>\n",
              "\t<tr><td>0.23</td><td>Ideal    </td><td>E</td><td>SI2 </td><td>61.5</td><td>55</td><td>326</td><td>3.95</td><td>3.98</td><td>2.43</td></tr>\n",
              "\t<tr><td>0.21</td><td>Premium  </td><td>E</td><td>SI1 </td><td>59.8</td><td>61</td><td>326</td><td>3.89</td><td>3.84</td><td>2.31</td></tr>\n",
              "\t<tr><td>0.23</td><td>Good     </td><td>E</td><td>VS1 </td><td>56.9</td><td>65</td><td>327</td><td>4.05</td><td>4.07</td><td>2.31</td></tr>\n",
              "\t<tr><td>0.29</td><td>Premium  </td><td>I</td><td>VS2 </td><td>62.4</td><td>58</td><td>334</td><td>4.20</td><td>4.23</td><td>2.63</td></tr>\n",
              "\t<tr><td>0.31</td><td>Good     </td><td>J</td><td>SI2 </td><td>63.3</td><td>58</td><td>335</td><td>4.34</td><td>4.35</td><td>2.75</td></tr>\n",
              "\t<tr><td>0.24</td><td>Very Good</td><td>J</td><td>VVS2</td><td>62.8</td><td>57</td><td>336</td><td>3.94</td><td>3.96</td><td>2.48</td></tr>\n",
              "</tbody>\n",
              "</table>\n"
            ],
            "text/markdown": "\nA tibble: 6 × 10\n\n| carat &lt;dbl&gt; | cut &lt;ord&gt; | color &lt;ord&gt; | clarity &lt;ord&gt; | depth &lt;dbl&gt; | table &lt;dbl&gt; | price &lt;int&gt; | x &lt;dbl&gt; | y &lt;dbl&gt; | z &lt;dbl&gt; |\n|---|---|---|---|---|---|---|---|---|---|\n| 0.23 | Ideal     | E | SI2  | 61.5 | 55 | 326 | 3.95 | 3.98 | 2.43 |\n| 0.21 | Premium   | E | SI1  | 59.8 | 61 | 326 | 3.89 | 3.84 | 2.31 |\n| 0.23 | Good      | E | VS1  | 56.9 | 65 | 327 | 4.05 | 4.07 | 2.31 |\n| 0.29 | Premium   | I | VS2  | 62.4 | 58 | 334 | 4.20 | 4.23 | 2.63 |\n| 0.31 | Good      | J | SI2  | 63.3 | 58 | 335 | 4.34 | 4.35 | 2.75 |\n| 0.24 | Very Good | J | VVS2 | 62.8 | 57 | 336 | 3.94 | 3.96 | 2.48 |\n\n",
            "text/latex": "A tibble: 6 × 10\n\\begin{tabular}{llllllllll}\n carat & cut & color & clarity & depth & table & price & x & y & z\\\\\n <dbl> & <ord> & <ord> & <ord> & <dbl> & <dbl> & <int> & <dbl> & <dbl> & <dbl>\\\\\n\\hline\n\t 0.23 & Ideal     & E & SI2  & 61.5 & 55 & 326 & 3.95 & 3.98 & 2.43\\\\\n\t 0.21 & Premium   & E & SI1  & 59.8 & 61 & 326 & 3.89 & 3.84 & 2.31\\\\\n\t 0.23 & Good      & E & VS1  & 56.9 & 65 & 327 & 4.05 & 4.07 & 2.31\\\\\n\t 0.29 & Premium   & I & VS2  & 62.4 & 58 & 334 & 4.20 & 4.23 & 2.63\\\\\n\t 0.31 & Good      & J & SI2  & 63.3 & 58 & 335 & 4.34 & 4.35 & 2.75\\\\\n\t 0.24 & Very Good & J & VVS2 & 62.8 & 57 & 336 & 3.94 & 3.96 & 2.48\\\\\n\\end{tabular}\n",
            "text/plain": [
              "  carat cut       color clarity depth table price x    y    z   \n",
              "1 0.23  Ideal     E     SI2     61.5  55    326   3.95 3.98 2.43\n",
              "2 0.21  Premium   E     SI1     59.8  61    326   3.89 3.84 2.31\n",
              "3 0.23  Good      E     VS1     56.9  65    327   4.05 4.07 2.31\n",
              "4 0.29  Premium   I     VS2     62.4  58    334   4.20 4.23 2.63\n",
              "5 0.31  Good      J     SI2     63.3  58    335   4.34 4.35 2.75\n",
              "6 0.24  Very Good J     VVS2    62.8  57    336   3.94 3.96 2.48"
            ]
          },
          "metadata": {}
        }
      ]
    },
    {
      "cell_type": "code",
      "source": [
        "tail(diamantes)\n"
      ],
      "metadata": {
        "colab": {
          "base_uri": "https://localhost:8080/",
          "height": 286
        },
        "id": "97tlRDEFFFHl",
        "outputId": "4e11fa9b-9e46-4354-bfdf-f88a282f0d20"
      },
      "execution_count": 248,
      "outputs": [
        {
          "output_type": "display_data",
          "data": {
            "text/html": [
              "<table class=\"dataframe\">\n",
              "<caption>A tibble: 6 × 10</caption>\n",
              "<thead>\n",
              "\t<tr><th scope=col>carat</th><th scope=col>cut</th><th scope=col>color</th><th scope=col>clarity</th><th scope=col>depth</th><th scope=col>table</th><th scope=col>price</th><th scope=col>x</th><th scope=col>y</th><th scope=col>z</th></tr>\n",
              "\t<tr><th scope=col>&lt;dbl&gt;</th><th scope=col>&lt;ord&gt;</th><th scope=col>&lt;ord&gt;</th><th scope=col>&lt;ord&gt;</th><th scope=col>&lt;dbl&gt;</th><th scope=col>&lt;dbl&gt;</th><th scope=col>&lt;int&gt;</th><th scope=col>&lt;dbl&gt;</th><th scope=col>&lt;dbl&gt;</th><th scope=col>&lt;dbl&gt;</th></tr>\n",
              "</thead>\n",
              "<tbody>\n",
              "\t<tr><td>0.72</td><td>Premium  </td><td>D</td><td>SI1</td><td>62.7</td><td>59</td><td>2757</td><td>5.69</td><td>5.73</td><td>3.58</td></tr>\n",
              "\t<tr><td>0.72</td><td>Ideal    </td><td>D</td><td>SI1</td><td>60.8</td><td>57</td><td>2757</td><td>5.75</td><td>5.76</td><td>3.50</td></tr>\n",
              "\t<tr><td>0.72</td><td>Good     </td><td>D</td><td>SI1</td><td>63.1</td><td>55</td><td>2757</td><td>5.69</td><td>5.75</td><td>3.61</td></tr>\n",
              "\t<tr><td>0.70</td><td>Very Good</td><td>D</td><td>SI1</td><td>62.8</td><td>60</td><td>2757</td><td>5.66</td><td>5.68</td><td>3.56</td></tr>\n",
              "\t<tr><td>0.86</td><td>Premium  </td><td>H</td><td>SI2</td><td>61.0</td><td>58</td><td>2757</td><td>6.15</td><td>6.12</td><td>3.74</td></tr>\n",
              "\t<tr><td>0.75</td><td>Ideal    </td><td>D</td><td>SI2</td><td>62.2</td><td>55</td><td>2757</td><td>5.83</td><td>5.87</td><td>3.64</td></tr>\n",
              "</tbody>\n",
              "</table>\n"
            ],
            "text/markdown": "\nA tibble: 6 × 10\n\n| carat &lt;dbl&gt; | cut &lt;ord&gt; | color &lt;ord&gt; | clarity &lt;ord&gt; | depth &lt;dbl&gt; | table &lt;dbl&gt; | price &lt;int&gt; | x &lt;dbl&gt; | y &lt;dbl&gt; | z &lt;dbl&gt; |\n|---|---|---|---|---|---|---|---|---|---|\n| 0.72 | Premium   | D | SI1 | 62.7 | 59 | 2757 | 5.69 | 5.73 | 3.58 |\n| 0.72 | Ideal     | D | SI1 | 60.8 | 57 | 2757 | 5.75 | 5.76 | 3.50 |\n| 0.72 | Good      | D | SI1 | 63.1 | 55 | 2757 | 5.69 | 5.75 | 3.61 |\n| 0.70 | Very Good | D | SI1 | 62.8 | 60 | 2757 | 5.66 | 5.68 | 3.56 |\n| 0.86 | Premium   | H | SI2 | 61.0 | 58 | 2757 | 6.15 | 6.12 | 3.74 |\n| 0.75 | Ideal     | D | SI2 | 62.2 | 55 | 2757 | 5.83 | 5.87 | 3.64 |\n\n",
            "text/latex": "A tibble: 6 × 10\n\\begin{tabular}{llllllllll}\n carat & cut & color & clarity & depth & table & price & x & y & z\\\\\n <dbl> & <ord> & <ord> & <ord> & <dbl> & <dbl> & <int> & <dbl> & <dbl> & <dbl>\\\\\n\\hline\n\t 0.72 & Premium   & D & SI1 & 62.7 & 59 & 2757 & 5.69 & 5.73 & 3.58\\\\\n\t 0.72 & Ideal     & D & SI1 & 60.8 & 57 & 2757 & 5.75 & 5.76 & 3.50\\\\\n\t 0.72 & Good      & D & SI1 & 63.1 & 55 & 2757 & 5.69 & 5.75 & 3.61\\\\\n\t 0.70 & Very Good & D & SI1 & 62.8 & 60 & 2757 & 5.66 & 5.68 & 3.56\\\\\n\t 0.86 & Premium   & H & SI2 & 61.0 & 58 & 2757 & 6.15 & 6.12 & 3.74\\\\\n\t 0.75 & Ideal     & D & SI2 & 62.2 & 55 & 2757 & 5.83 & 5.87 & 3.64\\\\\n\\end{tabular}\n",
            "text/plain": [
              "  carat cut       color clarity depth table price x    y    z   \n",
              "1 0.72  Premium   D     SI1     62.7  59    2757  5.69 5.73 3.58\n",
              "2 0.72  Ideal     D     SI1     60.8  57    2757  5.75 5.76 3.50\n",
              "3 0.72  Good      D     SI1     63.1  55    2757  5.69 5.75 3.61\n",
              "4 0.70  Very Good D     SI1     62.8  60    2757  5.66 5.68 3.56\n",
              "5 0.86  Premium   H     SI2     61.0  58    2757  6.15 6.12 3.74\n",
              "6 0.75  Ideal     D     SI2     62.2  55    2757  5.83 5.87 3.64"
            ]
          },
          "metadata": {}
        }
      ]
    },
    {
      "cell_type": "markdown",
      "source": [
        " Faça alguns sumários estatísticos para entender melhor a base de dados"
      ],
      "metadata": {
        "id": "4sOWMMkpFJ89"
      }
    },
    {
      "cell_type": "code",
      "source": [
        "summary(diamonds)"
      ],
      "metadata": {
        "colab": {
          "base_uri": "https://localhost:8080/",
          "height": 434
        },
        "id": "xwIsGFlwFweM",
        "outputId": "d826f3aa-3397-498c-9fc6-61554d074a16"
      },
      "execution_count": 249,
      "outputs": [
        {
          "output_type": "display_data",
          "data": {
            "text/plain": [
              "     carat               cut        color        clarity          depth      \n",
              " Min.   :0.2000   Fair     : 1610   D: 6775   SI1    :13065   Min.   :43.00  \n",
              " 1st Qu.:0.4000   Good     : 4906   E: 9797   VS2    :12258   1st Qu.:61.00  \n",
              " Median :0.7000   Very Good:12082   F: 9542   SI2    : 9194   Median :61.80  \n",
              " Mean   :0.7979   Premium  :13791   G:11292   VS1    : 8171   Mean   :61.75  \n",
              " 3rd Qu.:1.0400   Ideal    :21551   H: 8304   VVS2   : 5066   3rd Qu.:62.50  \n",
              " Max.   :5.0100                     I: 5422   VVS1   : 3655   Max.   :79.00  \n",
              "                                    J: 2808   (Other): 2531                  \n",
              "     table           price             x                y         \n",
              " Min.   :43.00   Min.   :  326   Min.   : 0.000   Min.   : 0.000  \n",
              " 1st Qu.:56.00   1st Qu.:  950   1st Qu.: 4.710   1st Qu.: 4.720  \n",
              " Median :57.00   Median : 2401   Median : 5.700   Median : 5.710  \n",
              " Mean   :57.46   Mean   : 3933   Mean   : 5.731   Mean   : 5.735  \n",
              " 3rd Qu.:59.00   3rd Qu.: 5324   3rd Qu.: 6.540   3rd Qu.: 6.540  \n",
              " Max.   :95.00   Max.   :18823   Max.   :10.740   Max.   :58.900  \n",
              "                                                                  \n",
              "       z         \n",
              " Min.   : 0.000  \n",
              " 1st Qu.: 2.910  \n",
              " Median : 3.530  \n",
              " Mean   : 3.539  \n",
              " 3rd Qu.: 4.040  \n",
              " Max.   :31.800  \n",
              "                 "
            ]
          },
          "metadata": {}
        }
      ]
    },
    {
      "cell_type": "markdown",
      "source": [
        "A saída da função summary() está de acordo com a descrição mostrada \n",
        "anteriormente?"
      ],
      "metadata": {
        "id": "lqJpVsaXFNBL"
      }
    },
    {
      "cell_type": "code",
      "source": [
        "diamonds$color <- factor(diamonds$color, levels=rev(levels(diamonds$color)))"
      ],
      "metadata": {
        "id": "Fogv3jiFMfh7"
      },
      "execution_count": 250,
      "outputs": []
    },
    {
      "cell_type": "code",
      "source": [
        "str(diamonds)"
      ],
      "metadata": {
        "colab": {
          "base_uri": "https://localhost:8080/"
        },
        "id": "VN3eKsxqMiIy",
        "outputId": "8e5e077c-3969-4e73-9eee-a170e4b7ba7e"
      },
      "execution_count": 251,
      "outputs": [
        {
          "output_type": "stream",
          "name": "stdout",
          "text": [
            "tibble [53,940 × 10] (S3: tbl_df/tbl/data.frame)\n",
            " $ carat  : num [1:53940] 0.23 0.21 0.23 0.29 0.31 0.24 0.24 0.26 0.22 0.23 ...\n",
            " $ cut    : Ord.factor w/ 5 levels \"Fair\"<\"Good\"<..: 5 4 2 4 2 3 3 3 1 3 ...\n",
            " $ color  : Ord.factor w/ 7 levels \"J\"<\"I\"<\"H\"<\"G\"<..: 6 6 6 2 1 1 2 3 6 3 ...\n",
            " $ clarity: Ord.factor w/ 8 levels \"I1\"<\"SI2\"<\"SI1\"<..: 2 3 5 4 2 6 7 3 4 5 ...\n",
            " $ depth  : num [1:53940] 61.5 59.8 56.9 62.4 63.3 62.8 62.3 61.9 65.1 59.4 ...\n",
            " $ table  : num [1:53940] 55 61 65 58 58 57 57 55 61 61 ...\n",
            " $ price  : int [1:53940] 326 326 327 334 335 336 336 337 337 338 ...\n",
            " $ x      : num [1:53940] 3.95 3.89 4.05 4.2 4.34 3.94 3.95 4.07 3.87 4 ...\n",
            " $ y      : num [1:53940] 3.98 3.84 4.07 4.23 4.35 3.96 3.98 4.11 3.78 4.05 ...\n",
            " $ z      : num [1:53940] 2.43 2.31 2.31 2.63 2.75 2.48 2.47 2.53 2.49 2.39 ...\n"
          ]
        }
      ]
    },
    {
      "cell_type": "code",
      "source": [
        "summary(diamonds)"
      ],
      "metadata": {
        "colab": {
          "base_uri": "https://localhost:8080/",
          "height": 434
        },
        "id": "dNZi-EnpMkzy",
        "outputId": "ed44d2e1-05fe-44b9-8cb7-0b68531448c7"
      },
      "execution_count": 252,
      "outputs": [
        {
          "output_type": "display_data",
          "data": {
            "text/plain": [
              "     carat               cut        color        clarity          depth      \n",
              " Min.   :0.2000   Fair     : 1610   J: 2808   SI1    :13065   Min.   :43.00  \n",
              " 1st Qu.:0.4000   Good     : 4906   I: 5422   VS2    :12258   1st Qu.:61.00  \n",
              " Median :0.7000   Very Good:12082   H: 8304   SI2    : 9194   Median :61.80  \n",
              " Mean   :0.7979   Premium  :13791   G:11292   VS1    : 8171   Mean   :61.75  \n",
              " 3rd Qu.:1.0400   Ideal    :21551   F: 9542   VVS2   : 5066   3rd Qu.:62.50  \n",
              " Max.   :5.0100                     E: 9797   VVS1   : 3655   Max.   :79.00  \n",
              "                                    D: 6775   (Other): 2531                  \n",
              "     table           price             x                y         \n",
              " Min.   :43.00   Min.   :  326   Min.   : 0.000   Min.   : 0.000  \n",
              " 1st Qu.:56.00   1st Qu.:  950   1st Qu.: 4.710   1st Qu.: 4.720  \n",
              " Median :57.00   Median : 2401   Median : 5.700   Median : 5.710  \n",
              " Mean   :57.46   Mean   : 3933   Mean   : 5.731   Mean   : 5.735  \n",
              " 3rd Qu.:59.00   3rd Qu.: 5324   3rd Qu.: 6.540   3rd Qu.: 6.540  \n",
              " Max.   :95.00   Max.   :18823   Max.   :10.740   Max.   :58.900  \n",
              "                                                                  \n",
              "       z         \n",
              " Min.   : 0.000  \n",
              " 1st Qu.: 2.910  \n",
              " Median : 3.530  \n",
              " Mean   : 3.539  \n",
              " 3rd Qu.: 4.040  \n",
              " Max.   :31.800  \n",
              "                 "
            ]
          },
          "metadata": {}
        }
      ]
    },
    {
      "cell_type": "code",
      "source": [
        "df <- as.data.frame.table(table(diamonds$color))"
      ],
      "metadata": {
        "id": "TeAb_lBzMu05"
      },
      "execution_count": 253,
      "outputs": []
    },
    {
      "cell_type": "code",
      "source": [
        "ggplot(df, aes(x = Var1, y = Freq)) + geom_bar( stat = \"identity\") + geom_text(aes(label = Freq), vjust=1.6, color=\"white\", position = position_dodge(0.9), size=3.5) + labs(x = \"Color\", y = \"Freq\")"
      ],
      "metadata": {
        "colab": {
          "base_uri": "https://localhost:8080/",
          "height": 437
        },
        "id": "YLz7l1CWMxu6",
        "outputId": "66219196-a19e-454d-da97-9a4a24af53fa"
      },
      "execution_count": 254,
      "outputs": [
        {
          "output_type": "display_data",
          "data": {
            "text/plain": [
              "plot without title"
            ],
            "image/png": "[encoded data removed]"
          },
          "metadata": {
            "image/png": {
              "width": 420,
              "height": 420
            }
          }
        }
      ]
    },
    {
      "cell_type": "markdown",
      "source": [
        "Explore a variável price, seguindo o modelo de exploração\n",
        "\n",
        "\n",
        "\n"
      ],
      "metadata": {
        "id": "gGY9-gLIFQIh"
      }
    },
    {
      "cell_type": "code",
      "source": [
        "if (knitr::is_latex_output()) {\n",
        "     skim_without_charts(diamonds$price)\n",
        "} else {\n",
        "     skim(diamonds$price)\n",
        "}"
      ],
      "metadata": {
        "colab": {
          "base_uri": "https://localhost:8080/"
        },
        "id": "3IS_G022JaRv",
        "outputId": "1684ad8a-7f9d-4a01-e034-065e7f100038"
      },
      "execution_count": 255,
      "outputs": [
        {
          "output_type": "stream",
          "name": "stdout",
          "text": [
            "── Data Summary ────────────────────────\n",
            "                           Values        \n",
            "Name                       diamonds$price\n",
            "Number of rows             53940         \n",
            "Number of columns          1             \n",
            "_______________________                  \n",
            "Column type frequency:                   \n",
            "  numeric                  1             \n",
            "________________________                 \n",
            "Group variables            None          \n",
            "\n",
            "── Variable type: numeric ──────────────────────────────────────────────────────\n",
            "  skim_variable n_missing complete_rate  mean    sd    p0   p25   p50   p75\n",
            "1 data                  0             1 3933. 3989.   326   950  2401 5324.\n",
            "   p100 hist \n",
            "1 18823 ▇▂▁▁▁\n"
          ]
        }
      ]
    },
    {
      "cell_type": "code",
      "source": [
        "boxplot(diamonds$price)"
      ],
      "metadata": {
        "colab": {
          "base_uri": "https://localhost:8080/",
          "height": 437
        },
        "id": "vXy-XBvdXAam",
        "outputId": "d61c7eb3-d834-48ab-9ce3-5eaf8b4ebdf6"
      },
      "execution_count": 256,
      "outputs": [
        {
          "output_type": "display_data",
          "data": {
            "text/plain": [
              "plot without title"
            ],
            "image/png": "[encoded data removed]"
          },
          "metadata": {
            "image/png": {
              "width": 420,
              "height": 420
            }
          }
        }
      ]
    },
    {
      "cell_type": "code",
      "source": [
        "hist(diamonds$price)"
      ],
      "metadata": {
        "colab": {
          "base_uri": "https://localhost:8080/",
          "height": 437
        },
        "id": "ZEkEiJoSXCkK",
        "outputId": "8ff35324-318d-4fc1-ef93-175f07692369"
      },
      "execution_count": 257,
      "outputs": [
        {
          "output_type": "display_data",
          "data": {
            "text/plain": [
              "Plot with title “Histogram of diamonds$price”"
            ],
            "image/png": "[encoded data removed]"
          },
          "metadata": {
            "image/png": {
              "width": 420,
              "height": 420
            }
          }
        }
      ]
    },
    {
      "cell_type": "markdown",
      "source": [
        "Veja a distribuição da variável (histograma); observe a faixa de valores da variável e também."
      ],
      "metadata": {
        "id": "_04JpgZsFS00"
      }
    },
    {
      "cell_type": "code",
      "source": [
        "hist(diamonds$price)"
      ],
      "metadata": {
        "colab": {
          "base_uri": "https://localhost:8080/",
          "height": 437
        },
        "id": "Gtam7OwnO8nl",
        "outputId": "117094c1-d77b-4b86-e70e-d360c2529bb7"
      },
      "execution_count": 258,
      "outputs": [
        {
          "output_type": "display_data",
          "data": {
            "text/plain": [
              "Plot with title “Histogram of diamonds$price”"
            ],
            "image/png": "[encoded data removed]"
          },
          "metadata": {
            "image/png": {
              "width": 420,
              "height": 420
            }
          }
        }
      ]
    },
    {
      "cell_type": "code",
      "source": [
        "Price <- ggplot(data = diamonds) + \n",
        "  geom_histogram(aes(price)) + labs_pubr() + theme_pubclean()\n",
        "\n",
        "Price"
      ],
      "metadata": {
        "colab": {
          "base_uri": "https://localhost:8080/",
          "height": 472
        },
        "id": "J2ENEBUBPHv0",
        "outputId": "e71a206f-a51b-4e98-dce2-15eade59bc4d"
      },
      "execution_count": 259,
      "outputs": [
        {
          "output_type": "stream",
          "name": "stderr",
          "text": [
            "`stat_bin()` using `bins = 30`. Pick better value with `binwidth`.\n",
            "\n"
          ]
        },
        {
          "output_type": "display_data",
          "data": {
            "text/plain": [
              "plot without title"
            ],
            "image/png": "[encoded data removed]"
          },
          "metadata": {
            "image/png": {
              "width": 420,
              "height": 420
            }
          }
        }
      ]
    },
    {
      "cell_type": "markdown",
      "source": [
        "Explore também as variáveis carat, cut, color, clarity, x, y, z, depth e table, seguindo o modelo de exploração"
      ],
      "metadata": {
        "id": "N4k87EWPFWib"
      }
    },
    {
      "cell_type": "code",
      "source": [
        "if (knitr::is_latex_output()) {\n",
        "  skim_without_charts(diamonds, - price)\n",
        "} else {\n",
        "  skim(diamonds, - price)\n",
        "} "
      ],
      "metadata": {
        "colab": {
          "base_uri": "https://localhost:8080/"
        },
        "id": "MFoj7-jVPRoa",
        "outputId": "5ae523cd-5b49-4356-a06d-3eaba6cde36c"
      },
      "execution_count": 260,
      "outputs": [
        {
          "output_type": "stream",
          "name": "stdout",
          "text": [
            "── Data Summary ────────────────────────\n",
            "                           Values  \n",
            "Name                       diamonds\n",
            "Number of rows             53940   \n",
            "Number of columns          10      \n",
            "_______________________            \n",
            "Column type frequency:             \n",
            "  factor                   3       \n",
            "  numeric                  6       \n",
            "________________________           \n",
            "Group variables            None    \n",
            "\n",
            "── Variable type: factor ───────────────────────────────────────────────────────\n",
            "  skim_variable n_missing complete_rate ordered n_unique\n",
            "1 cut                   0             1 TRUE           5\n",
            "2 color                 0             1 TRUE           7\n",
            "3 clarity               0             1 TRUE           8\n",
            "  top_counts                                   \n",
            "1 Ide: 21551, Pre: 13791, Ver: 12082, Goo: 4906\n",
            "2 G: 11292, E: 9797, F: 9542, H: 8304          \n",
            "3 SI1: 13065, VS2: 12258, SI2: 9194, VS1: 8171 \n",
            "\n",
            "── Variable type: numeric ──────────────────────────────────────────────────────\n",
            "  skim_variable n_missing complete_rate   mean    sd    p0   p25   p50   p75\n",
            "1 carat                 0             1  0.798 0.474   0.2  0.4   0.7   1.04\n",
            "2 depth                 0             1 61.7   1.43   43   61    61.8  62.5 \n",
            "3 table                 0             1 57.5   2.23   43   56    57    59   \n",
            "4 x                     0             1  5.73  1.12    0    4.71  5.7   6.54\n",
            "5 y                     0             1  5.73  1.14    0    4.72  5.71  6.54\n",
            "6 z                     0             1  3.54  0.706   0    2.91  3.53  4.04\n",
            "   p100 hist \n",
            "1  5.01 ▇▂▁▁▁\n",
            "2 79    ▁▁▇▁▁\n",
            "3 95    ▁▇▁▁▁\n",
            "4 10.7  ▁▁▇▃▁\n",
            "5 58.9  ▇▁▁▁▁\n",
            "6 31.8  ▇▁▁▁▁\n"
          ]
        }
      ]
    },
    {
      "cell_type": "code",
      "source": [
        "h2_Caract <- ggplot(data = diamonds) + geom_histogram(aes(x=diamonds$carat))+ labs_pubr() + theme_pubclean()\n",
        "\n",
        "h3_Depth <- ggplot(data = diamonds) + geom_histogram(aes(x=diamonds$depth))+ labs_pubr() + theme_pubclean()\n",
        "\n",
        "h4_table <- ggplot(data = diamonds) + geom_histogram(aes(x=diamonds$table))+ labs_pubr() + theme_pubclean()\n",
        "\n",
        "h5_x <- ggplot(data = diamonds) + geom_histogram(aes(x=diamonds$x))+ labs_pubr() + theme_pubclean()\n",
        "\n",
        "h6_y <- ggplot(data = diamonds) + geom_histogram(aes(x=diamonds$y))+ labs_pubr() + theme_pubclean()\n",
        "\n",
        "h7_z <- ggplot(data = diamonds) + geom_histogram(aes(x=diamonds$y))+ labs_pubr() + theme_pubclean()\n",
        "\n",
        "\n",
        "ggarrange(ncol = 4, nrow = 3, h2_Caract, h3_Depth, h4_table, h5_x, h6_y, h7_z)"
      ],
      "metadata": {
        "colab": {
          "base_uri": "https://localhost:8080/",
          "height": 854
        },
        "id": "atErze9imhK-",
        "outputId": "52397eb6-1ba6-49a1-af5d-0f55093e6c7a"
      },
      "execution_count": 261,
      "outputs": [
        {
          "output_type": "stream",
          "name": "stderr",
          "text": [
            "Warning message:\n",
            "“Use of `diamonds$carat` is discouraged. Use `carat` instead.”\n",
            "`stat_bin()` using `bins = 30`. Pick better value with `binwidth`.\n",
            "\n",
            "Warning message:\n",
            "“Use of `diamonds$depth` is discouraged. Use `depth` instead.”\n",
            "`stat_bin()` using `bins = 30`. Pick better value with `binwidth`.\n",
            "\n",
            "Warning message:\n",
            "“Use of `diamonds$table` is discouraged. Use `table` instead.”\n",
            "`stat_bin()` using `bins = 30`. Pick better value with `binwidth`.\n",
            "\n",
            "Warning message:\n",
            "“Use of `diamonds$x` is discouraged. Use `x` instead.”\n",
            "`stat_bin()` using `bins = 30`. Pick better value with `binwidth`.\n",
            "\n",
            "Warning message:\n",
            "“Use of `diamonds$y` is discouraged. Use `y` instead.”\n",
            "`stat_bin()` using `bins = 30`. Pick better value with `binwidth`.\n",
            "\n",
            "Warning message:\n",
            "“Use of `diamonds$y` is discouraged. Use `y` instead.”\n",
            "`stat_bin()` using `bins = 30`. Pick better value with `binwidth`.\n",
            "\n"
          ]
        },
        {
          "output_type": "display_data",
          "data": {
            "text/plain": [
              "plot without title"
            ],
            "image/png": "[encoded data removed]"
          },
          "metadata": {
            "image/png": {
              "width": 420,
              "height": 420
            }
          }
        }
      ]
    },
    {
      "cell_type": "markdown",
      "source": [
        "Crie boxplots para as variáveis numéricas; veja se existem dados anormais (outliers)."
      ],
      "metadata": {
        "id": "JSzeMG_mFfJK"
      }
    },
    {
      "cell_type": "code",
      "source": [
        "g2_Caract <- ggplot(data = diamonds) + geom_boxplot(aes(y=diamonds$carat))+ labs_pubr() + theme_pubclean()\n",
        "\n",
        "g3_Depth <- ggplot(data = diamonds) + geom_boxplot(aes(y=diamonds$depth))+ labs_pubr() + theme_pubclean()\n",
        "\n",
        "g4_table <- ggplot(data = diamonds) + geom_boxplot(aes(y=diamonds$table))+ labs_pubr() + theme_pubclean()\n",
        "\n",
        "g5_x <- ggplot(data = diamonds) + geom_boxplot(aes(y=diamonds$x))+ labs_pubr() + theme_pubclean()\n",
        "\n",
        "g6_y <- ggplot(data = diamonds) + geom_boxplot(aes(y=diamonds$y))+ labs_pubr() + theme_pubclean()\n",
        "\n",
        "g7_z <- ggplot(data = diamonds) + geom_boxplot(aes(y=diamonds$y))+ labs_pubr() + theme_pubclean()\n",
        "\n",
        "\n",
        "ggarrange(ncol = 3, nrow = 2, g2_Caract, g3_Depth, g4_table, g5_x, g6_y, g7_z) "
      ],
      "metadata": {
        "colab": {
          "base_uri": "https://localhost:8080/",
          "height": 646
        },
        "id": "Kmq1z8zSPiIn",
        "outputId": "617340eb-c93a-4c12-fcf7-d28bd54009f1"
      },
      "execution_count": 262,
      "outputs": [
        {
          "output_type": "stream",
          "name": "stderr",
          "text": [
            "Warning message:\n",
            "“Use of `diamonds$carat` is discouraged. Use `carat` instead.”\n",
            "Warning message:\n",
            "“Use of `diamonds$depth` is discouraged. Use `depth` instead.”\n",
            "Warning message:\n",
            "“Use of `diamonds$table` is discouraged. Use `table` instead.”\n",
            "Warning message:\n",
            "“Use of `diamonds$x` is discouraged. Use `x` instead.”\n",
            "Warning message:\n",
            "“Use of `diamonds$y` is discouraged. Use `y` instead.”\n",
            "Warning message:\n",
            "“Use of `diamonds$y` is discouraged. Use `y` instead.”\n"
          ]
        },
        {
          "output_type": "display_data",
          "data": {
            "text/plain": [
              "plot without title"
            ],
            "image/png": "[encoded data removed]"
          },
          "metadata": {
            "image/png": {
              "width": 420,
              "height": 420
            }
          }
        }
      ]
    },
    {
      "cell_type": "markdown",
      "source": [
        "Utilize as variáveis categóricas para fazer o facetamento dos dados, mostrando alguns gráficos com 2 ou mais variáveis contínuas lado a lado."
      ],
      "metadata": {
        "id": "dYUJ9LcHFiLF"
      }
    },
    {
      "cell_type": "code",
      "source": [
        "boxplot(price ~ color, data = diamonds)"
      ],
      "metadata": {
        "colab": {
          "base_uri": "https://localhost:8080/",
          "height": 437
        },
        "id": "dJuHV4b5PlTB",
        "outputId": "d1a14661-4aba-454e-d304-1ae3db66690f"
      },
      "execution_count": 263,
      "outputs": [
        {
          "output_type": "display_data",
          "data": {
            "text/plain": [
              "plot without title"
            ],
            "image/png": "[encoded data removed]"
          },
          "metadata": {
            "image/png": {
              "width": 420,
              "height": 420
            }
          }
        }
      ]
    },
    {
      "cell_type": "code",
      "source": [
        "ggplot(data = diamonds, aes(x = color, y = price)) +\n",
        "     geom_boxplot()"
      ],
      "metadata": {
        "colab": {
          "base_uri": "https://localhost:8080/",
          "height": 437
        },
        "id": "lbr7Vn35PpMM",
        "outputId": "0c3d5b99-8919-4385-80cf-96a6961ced32"
      },
      "execution_count": 264,
      "outputs": [
        {
          "output_type": "display_data",
          "data": {
            "text/plain": [
              "plot without title"
            ],
            "image/png": "[encoded data removed]"
          },
          "metadata": {
            "image/png": {
              "width": 420,
              "height": 420
            }
          }
        }
      ]
    },
    {
      "cell_type": "markdown",
      "source": [
        "Para cada resultado/gráfico obtido, explique e discuta-os, de modo a construir um relatório de exploração dos dados, que deverá ser submetido"
      ],
      "metadata": {
        "id": "-rRBs-p3Fm9p"
      }
    }
  ]
}